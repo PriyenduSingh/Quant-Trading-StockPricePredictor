{
  "nbformat": 4,
  "nbformat_minor": 0,
  "metadata": {
    "colab": {
      "provenance": [],
      "authorship_tag": "ABX9TyMBf44xi0cYB7ffbe3Z4V1F",
      "include_colab_link": true
    },
    "kernelspec": {
      "name": "python3",
      "display_name": "Python 3"
    },
    "language_info": {
      "name": "python"
    }
  },
  "cells": [
    {
      "cell_type": "markdown",
      "metadata": {
        "id": "view-in-github",
        "colab_type": "text"
      },
      "source": [
        "<a href=\"https://colab.research.google.com/github/PriyenduSingh/Quant-Trading-StockPricePredictor/blob/master/Quant_Trading_StockPricePredictor.ipynb\" target=\"_parent\"><img src=\"https://colab.research.google.com/assets/colab-badge.svg\" alt=\"Open In Colab\"/></a>"
      ]
    },
    {
      "cell_type": "markdown",
      "source": [
        "# First we will choose a company for stock price prediction\n",
        "I choose L&T as its graph has many ups and downs and regression work good on it"
      ],
      "metadata": {
        "id": "j-_RyPNG0cdV"
      }
    },
    {
      "cell_type": "code",
      "source": [
        "import numpy as np\n",
        "import pandas as pd\n",
        "import yfinance as yf\n",
        "import matplotlib.pyplot as plt\n",
        "from sklearn.metrics import f1_score,roc_auc_score\n",
        "from sklearn import preprocessing\n",
        "from sklearn.model_selection import StratifiedGroupKFold\n",
        "from sklearn.model_selection import train_test_split\n",
        "from sklearn.preprocessing import StandardScaler\n",
        "\n",
        "\n",
        "#Step 1: Data Extraction\n",
        "def extract_data(symbol,start_date,end_date,interval):\n",
        "  data=yf.download(symbol,start=start_date,end=end_date,interval=interval)\n",
        "  return data\n",
        "\n",
        "#Choosing L&T (LT) with a time frame of the past year and daily interval\n",
        "start_date=\"2024-01-01\"\n",
        "end_date=\"2025-07-01\"\n",
        "symbol=\"LT.NS\"\n",
        "interval=\"1d\"\n",
        "data=extract_data(symbol,start_date,end_date,interval)\n",
        "print(\"Date Shape;\",data.shape)\n",
        "print(data.head())\n"
      ],
      "metadata": {
        "colab": {
          "base_uri": "https://localhost:8080/"
        },
        "id": "dF837Mvn0sFw",
        "outputId": "b20e1897-c757-4e08-9f3d-e44c869b43ff"
      },
      "execution_count": null,
      "outputs": [
        {
          "output_type": "stream",
          "name": "stderr",
          "text": [
            "/tmp/ipython-input-300-1331357967.py:14: FutureWarning: YF.download() has changed argument auto_adjust default to True\n",
            "  data=yf.download(symbol,start=start_date,end=end_date,interval=interval)\n",
            "[*********************100%***********************]  1 of 1 completed"
          ]
        },
        {
          "output_type": "stream",
          "name": "stdout",
          "text": [
            "Date Shape; (369, 5)\n",
            "Price             Close         High          Low         Open   Volume\n",
            "Ticker            LT.NS        LT.NS        LT.NS        LT.NS    LT.NS\n",
            "Date                                                                   \n",
            "2024-01-01  3465.631348  3477.968452  3436.730293  3477.968452   777080\n",
            "2024-01-02  3379.763672  3465.631405  3373.767078  3465.238288  1511464\n",
            "2024-01-03  3381.975586  3407.042912  3353.713405  3374.750202  1283859\n",
            "2024-01-04  3400.013916  3421.050952  3364.919709  3382.663491  1651616\n",
            "2024-01-05  3462.141357  3494.679823  3401.291754  3406.157716  2069018\n"
          ]
        },
        {
          "output_type": "stream",
          "name": "stderr",
          "text": [
            "\n"
          ]
        }
      ]
    },
    {
      "cell_type": "markdown",
      "source": [
        "#Calculation of Technical indicators  \n",
        "\n",
        "#In this section, various technical indicators are calculated based on the extracted financial data of Infosys Limited.\n",
        "#These indicators offer insights into the stock's price movements and potential trends.The following technical indicator are computed\n",
        "\n",
        "1. Simple Moving Average (SMA) The Simple Moving Average (SMA) is calculated with a window of 20 days. It represents the average closing price of the stock over a specified period, smoothing out short-term fluctuations and highlighting longer-term trends.\n",
        "\n",
        "2. Exponential Moving Average (EMA) The Exponential Moving Average (EMA) is computed with a window of 50 days. EMA gives more weight to recent prices, making it more responsive to price changes compared to SMA.\n",
        "\n",
        "3. Moving Average Convergence Divergence (MACD) MACD is derived from two EMAs: a short-term EMA (12 days) and a long-term EMA (26 days). It indicates the relationship between these EMAs and helps identify potential trend reversals or momentum shifts.\n",
        "\n",
        "4. Bollinger Bands Bollinger Bands consist of a middle band (SMA) and two outer bands that are standard deviations away from the middle band. They help identify potential overbought or oversold conditions and volatility changes.\n",
        "\n",
        "5. Relative Strength Index (RSI) RSI measures the magnitude of recent price changes to evaluate overbought or oversold conditions. It is calculated based on the average gains and losses over a specified period (usually 14 days).\n",
        "\n",
        "I have chosen these indicators as they were simple, very widely used across the internet and they fit well with the 5-day window I am using for buy, sell and hold.\n"
      ],
      "metadata": {
        "id": "jnYj511291D9"
      }
    },
    {
      "cell_type": "code",
      "source": [
        "# Step 2: Calculate Technical Indicators\n",
        "def calculate_sma(data, window=20):\n",
        "    return data['Close'].rolling(window=window, min_periods=1).mean()\n",
        "\n",
        "def calculate_ema(data, window=50):\n",
        "    return data['Close'].ewm(span=window, adjust=False).mean()\n",
        "\n",
        "def calculate_macd(data, short_window=12, long_window=26, signal_window=9):\n",
        "    short_ema = calculate_ema(data, short_window)\n",
        "    long_ema = calculate_ema(data, long_window)\n",
        "    macd_line = short_ema - long_ema\n",
        "    signal_line = macd_line.ewm(span=signal_window, adjust=False).mean()\n",
        "    return macd_line, signal_line\n",
        "\n",
        "def calculate_bollinger_bands(data, window=20, num_std_dev=2):\n",
        "    sma = data['Close'].rolling(window=window, min_periods=1).mean()\n",
        "    rolling_std = data['Close'].rolling(window=window, min_periods=1).std()\n",
        "\n",
        "    # Apply forward fill and backward fill to handle NaN values\n",
        "    sma = sma.ffill().bfill()\n",
        "    rolling_std = rolling_std.ffill().bfill()\n",
        "\n",
        "    upper_band = sma + (rolling_std * num_std_dev)\n",
        "    lower_band = sma - (rolling_std * num_std_dev)\n",
        "\n",
        "    return upper_band, lower_band\n",
        "\n",
        "\n",
        "def calculate_rsi(data, window=14):\n",
        "    delta = data['Close'].diff()\n",
        "\n",
        "    # Apply forward fill and backward fill before rolling calculations\n",
        "    delta = delta.ffill().bfill()\n",
        "\n",
        "    gain = (delta.where(delta > 0, 0)).rolling(window=window, min_periods=1).mean()\n",
        "    loss = (-delta.where(delta < 0, 0)).rolling(window=window, min_periods=1).mean()\n",
        "\n",
        "    # Apply forward fill and backward fill to handle NaN values after rolling calculations\n",
        "    gain = gain.ffill().bfill()\n",
        "    loss = loss.ffill().bfill()\n",
        "\n",
        "    rs = gain / loss\n",
        "    rsi = 100 - (100 / (1 + rs))\n",
        "    return rsi"
      ],
      "metadata": {
        "id": "kuY2eghx93Io"
      },
      "execution_count": null,
      "outputs": []
    },
    {
      "cell_type": "code",
      "source": [
        "# Step 3: Create New Features\n",
        "def create_features(data):\n",
        "    data['SMA'] = calculate_sma(data)\n",
        "    data['EMA'] = calculate_ema(data)\n",
        "    data['SMA_50'] = calculate_sma(data, 50)\n",
        "    data['EMA_12'] = calculate_ema(data, 12)\n",
        "    data['MACD'], data['MACD_Signal'] = calculate_macd(data)\n",
        "    data['Upper_Band'], data['Lower_Band'] = calculate_bollinger_bands(data, 20, 2)\n",
        "    data['RSI'] = calculate_rsi(data)\n",
        "\n",
        "    return data\n"
      ],
      "metadata": {
        "id": "4NkrPbaZTSIe"
      },
      "execution_count": null,
      "outputs": []
    },
    {
      "cell_type": "markdown",
      "source": [
        "#Construction of target variable\n",
        "\n",
        "#The target variable is constructed in this step to facilitate the classification of buy, sell, or hold signals based on historical stock price data. This target variable will be used in subsequent steps for training and evaluating predictive models. The following procedure is employed to construct the target variable:   \n",
        "\n",
        "Methodology Window Specification: A window of 5 days is chosen to compute the average closing price for the next five days.\n",
        "\n",
        "Signal Determination:\n",
        "\n",
        "For each day in the dataset, the closing price of the current day (today_close) is compared with the average closing price of the next five days (avg_next_five_days_close).\n",
        "\n",
        "1. If the average closing price of the next five days is higher than the current day's closing price, a 'Buy' signal is generated.\n",
        "2. If the average closing price of the next five days is lower than the current day's closing price, a 'Sell' signal is generated.\n",
        "3. If there is no significant difference between the current day's closing price and the average closing price of the next five days, a 'Hold' signal is generated"
      ],
      "metadata": {
        "id": "pVvO2nhRbdi0"
      }
    },
    {
      "cell_type": "code",
      "source": [
        "def construct_target_variable(data, window=5):\n",
        "    signals = []\n",
        "    for i in range(len(data) - window):\n",
        "        today_close = data['Close'].iloc[i]\n",
        "\n",
        "        # Use mean to convert Series to scalar\n",
        "        avg_next_five_days = data['Close'].iloc[i+1:i+window+1].mean()\n",
        "\n",
        "        if avg_next_five_days > today_close:\n",
        "            signals.append('Buy')\n",
        "        elif avg_next_five_days < today_close:\n",
        "            signals.append('Sell')\n",
        "        else:\n",
        "            signals.append('Hold')\n",
        "\n",
        "    # Add 'Hold' instead of integer\n",
        "    signals.extend(['Hold'] * window)\n",
        "\n",
        "    data['Signal'] = signals\n",
        "    return data"
      ],
      "metadata": {
        "id": "fSFZnarlcSTM"
      },
      "execution_count": null,
      "outputs": []
    },
    {
      "cell_type": "markdown",
      "source": [
        "# Visualization of Data with Signals\n",
        "In this section, a function named plot_data_with_signals is defined to visualize the closing price of Infosys Limited's stock along with the corresponding signals ('Buy,' 'Sell,' or 'Hold') generated by the constructed target variable.\n",
        "\n",
        "* Function: plot_data_with_signals This function plots the closing price of the stock over time and highlights the data points where signals are generated. The signals are represented by colored markers: green for 'Buy,' red for 'Sell,' and blue for 'Hold.'"
      ],
      "metadata": {
        "id": "0-BjRqiNyydE"
      }
    },
    {
      "cell_type": "code",
      "source": [
        "def plot_data_with_signals(data, signal='Signal', interval=5):\n",
        "    fig, ax = plt.subplots(figsize=(12, 6))\n",
        "    ax.plot(data.index, data['Close'], label='Close Price', color='black')\n",
        "\n",
        "    for i in range(0, len(data), interval):\n",
        "        sig = str(data[signal].iloc[i]).strip().lower()\n",
        "\n",
        "        if sig == 'buy':\n",
        "            ax.scatter(data.index[i], data['Close'].iloc[i], color='green', marker='^', s=100)\n",
        "        elif sig == 'sell':\n",
        "            ax.scatter(data.index[i], data['Close'].iloc[i], color='red', marker='v', s=100)\n",
        "        else:\n",
        "            ax.scatter(data.index[i], data['Close'].iloc[i], color='blue', marker='o', s=100)\n",
        "\n",
        "    # Static legend\n",
        "    ax.scatter([], [], color='green', marker='^', label='Buy')\n",
        "    ax.scatter([], [], color='red', marker='v', label='Sell')\n",
        "    ax.scatter([], [], color='blue', marker='o', label='Hold')\n",
        "\n",
        "    ax.legend(loc='lower right')\n",
        "    ax.set_title('Close Price with Buy/Sell/Hold Signals')\n",
        "    ax.set_xlabel('Date')\n",
        "    ax.set_ylabel('Close Price')\n",
        "    plt.xticks(rotation=45)\n",
        "    plt.tight_layout()\n",
        "    plt.show()\n"
      ],
      "metadata": {
        "id": "p2wrIMjM45FN"
      },
      "execution_count": null,
      "outputs": []
    },
    {
      "cell_type": "markdown",
      "source": [
        "#Logistic Regression Class Implementation Overview\n",
        "1. Initialization The LogisticRegression class initializes the logistic regression object with parameters such as the learning rate (alpha) and the number of iterations (n_iterations). These parameters control the training process and optimization of the model.\n",
        "\n",
        "2. Sigmoid Function The _sigmoid_function method computes the sigmoid transformation of the input data. The sigmoid function maps any real-valued number to a value between 0 and 1. It's utilized in logistic regression to transform the output of the linear equation into probabilities.\n",
        "\n",
        "3. Cost Function The _cost_function method calculates the logistic loss, also known as the cross-entropy loss. This function measures the difference between the predicted probabilities and the actual labels. It quantifies how well the model is performing during training.\n",
        "\n",
        "4. Gradient Descent The _gradient_descent method updates the model parameters (theta) using gradient descent. Gradient descent is an optimization algorithm that iteratively adjusts the parameters to minimize the cost function. It computes the gradient of the cost function with respect to each parameter and moves in the direction of the steepest descent.\n",
        "\n",
        "5. Fitting the Model The fit method trains the logistic regression model on the provided training data. It iterates through unique labels and performs binary classification using the One-vs-All technique for multiclass classification tasks. During training, it optimizes the model parameters using gradient descent to minimize the cost function.\n",
        "\n",
        "6. Prediction The predict method predicts the labels for the given input features using the trained model. It applies the learned parameters to the input data and computes the predicted labels based on the maximum probability among different classes.\n",
        "\n",
        "7.Model Evaluation The score method evaluates the performance of the model by comparing the predicted labels with the actual labels. It calculates the accuracy of the model, which is the proportion of correctly predicted labels to the total number of samples."
      ],
      "metadata": {
        "id": "k2e6_tXfGnJ9"
      }
    },
    {
      "cell_type": "code",
      "source": [
        "#We are importing all necessary libraries to implement our model\n",
        "import matplotlib.pyplot as plt\n",
        "import numpy as np\n",
        "import pandas as pd\n",
        "from sklearn import preprocessing\n",
        "from sklearn.model_selection import StratifiedKFold\n",
        "from sklearn.preprocessing import StandardScaler\n",
        "\n",
        "\n",
        "class LogisticRegression(object):\n",
        "\n",
        "    def __init__(Logreg, alpha=0.01, n_iteration=100):  #This function intializes the alpha value and iteration\n",
        "        Logreg.alpha = alpha                            #value in the object\n",
        "        Logreg.n_iter = n_iteration\n",
        "\n",
        "    def _sigmoid_function(Logreg, x): #This function is resonsible for calculating the sigmoid value with given parameter\n",
        "        value = 1 / (1 + np.exp(-x))\n",
        "        return value\n",
        "    def _cost_function(Logreg,h,theta, y): # The fuctions calculates the cost value\n",
        "        m = len(y)\n",
        "        cost = (1 / m) * (np.sum(-y.T.dot(np.log(h)) - (1 - y).T.dot(np.log(1 - h))))\n",
        "        return cost\n",
        "\n",
        "    def _gradient_descent(Logreg,X,h,theta,y,m): # This function calculates the theta value by gradient descent\n",
        "        gradient_value = np.dot(X.T, (h - y)) / m\n",
        "        theta -= Logreg.alpha * gradient_value\n",
        "        return theta\n",
        "\n",
        "    def fit(Logreg, X, y): #This function primarily calculates the optimal theta value using which we predict the future data\n",
        "        print(\"Fitting the given dataset..\")\n",
        "        Logreg.theta = []\n",
        "        Logreg.cost = []\n",
        "        X = np.insert(X, 0, 1, axis=1)\n",
        "        m = len(y)\n",
        "        for i in np.unique(y):\n",
        "            #print('Descending the gradient for label type ' + str(i) + 'vs Rest')\n",
        "            y_onevsall = np.where(y == i, 1, 0)\n",
        "            theta = np.zeros(X.shape[1])\n",
        "            cost = []\n",
        "            for _ in range(Logreg.n_iter):\n",
        "                z = X.dot(theta)\n",
        "                h = Logreg._sigmoid_function(z)\n",
        "                theta = Logreg._gradient_descent(X,h,theta,y_onevsall,m)\n",
        "                cost.append(Logreg._cost_function(h,theta,y_onevsall))\n",
        "            Logreg.theta.append((theta, i))\n",
        "            Logreg.cost.append((cost,i))\n",
        "        return Logreg\n",
        "\n",
        "    def predict(Logreg, X): # this function calls the max predict function to classify the individul feauter\n",
        "        X = np.insert(X, 0, 1, axis=1)\n",
        "        X_predicted = [max((Logreg._sigmoid_function(i.dot(theta)), c) for theta, c in Logreg.theta)[1] for i in X ]\n",
        "\n",
        "        return X_predicted\n",
        "\n",
        "    def score(Logreg,X, y): #This function compares the predictd label with the actual label to find the model performance\n",
        "        score = sum(Logreg.predict(X) == y) / len(y)\n",
        "        return score\n",
        "\n",
        "    def _plot_cost(Logreg,costh): # This function plot the Cost function value\n",
        "        for cost,c in costh   :\n",
        "                plt.plot(range(len(cost)),cost,'r')\n",
        "                plt.title(\"Convergence Graph of Cost Function of type-\" + str(c) +\" vs All\")\n",
        "                plt.xlabel(\"Number of Iterations\")\n",
        "                plt.ylabel(\"Cost\")\n",
        "                plt.show()"
      ],
      "metadata": {
        "id": "rIKj7B_WHEr2"
      },
      "execution_count": null,
      "outputs": []
    },
    {
      "cell_type": "code",
      "source": [
        "# Plot data with signals\n",
        "def generate_signals(model, X):\n",
        "  X_predicted = model.predict(X)\n",
        "  return X_predicted"
      ],
      "metadata": {
        "id": "h3zE4uabQUe2"
      },
      "execution_count": null,
      "outputs": []
    },
    {
      "cell_type": "code",
      "source": [
        "# Main Function\n",
        "def main():\n",
        "    # Step 1: Data Extraction\n",
        "    data = extract_data(symbol, start_date, end_date, interval)\n",
        "\n",
        "\n",
        "    print(\"Data preview:\")\n",
        "    print(data.head())\n",
        "    print(\"Columns:\", data.columns)\n",
        "    data.columns = data.columns.droplevel(1)\n",
        "\n",
        "    # Step 3: Feature Engineering\n",
        "    data = create_features(data)\n",
        "\n",
        "    # Step 4: Target Variable Construction\n",
        "    data = construct_target_variable(data)\n",
        "\n",
        "    return data  # Return the modified data DataFrame\n",
        "\n",
        "if __name__ == \"__main__\":\n",
        "    modified_data = main()  # Assign the returned modified data DataFrame to a variable\n",
        "    print(modified_data.head())  # Print the modified data DataFrame\n",
        "\n",
        "    plot_data_with_signals(modified_data, signal='Signal', interval=5)\n",
        "\n",
        "    y_data = modified_data['Signal'].values\n",
        "    X = modified_data.drop(['Signal'], axis=1).values\n",
        "\n",
        "    scaler = StandardScaler()\n",
        "    X = scaler.fit_transform(X)\n",
        "    print(X)\n",
        "\n",
        "    # Import train_test_split\n",
        "    from sklearn.model_selection import train_test_split\n",
        "\n",
        "    # Train the logistic regression model multiple times and select the best model\n",
        "    best_model = None\n",
        "    best_accuracy = 0\n",
        "    for _ in range(15):\n",
        "        X_train, X_test, y_train, y_test = train_test_split(X, y_data, test_size=0.33)\n",
        "        logi = LogisticRegression(n_iteration=30000).fit(X_train, y_train)\n",
        "        accuracy = logi.score(X_test, y_test)\n",
        "        print(\"Accuracy is: \", accuracy)\n",
        "        if accuracy > best_accuracy:\n",
        "            best_accuracy = accuracy\n",
        "            best_model = logi\n",
        "\n",
        "    print(\"The best accuracy of the model is \", best_accuracy)\n",
        "\n",
        "    # Generate signals using the best model\n",
        "    signals = generate_signals(best_model, X)\n",
        "\n",
        "    # Calculate F1 score\n",
        "    f1 = f1_score(y_test, best_model.predict(X_test), average='weighted')\n",
        "    print(\"F1 Score:\", f1)"
      ],
      "metadata": {
        "colab": {
          "base_uri": "https://localhost:8080/",
          "height": 1000
        },
        "id": "Bxyn7Algrc6D",
        "outputId": "e507dbc2-f71d-4122-96fc-657094bee83d"
      },
      "execution_count": null,
      "outputs": [
        {
          "output_type": "stream",
          "name": "stderr",
          "text": [
            "/tmp/ipython-input-300-1331357967.py:14: FutureWarning: YF.download() has changed argument auto_adjust default to True\n",
            "  data=yf.download(symbol,start=start_date,end=end_date,interval=interval)\n",
            "[*********************100%***********************]  1 of 1 completed\n"
          ]
        },
        {
          "output_type": "stream",
          "name": "stdout",
          "text": [
            "Data preview:\n",
            "Price             Close         High          Low         Open   Volume\n",
            "Ticker            LT.NS        LT.NS        LT.NS        LT.NS    LT.NS\n",
            "Date                                                                   \n",
            "2024-01-01  3465.631348  3477.968452  3436.730293  3477.968452   777080\n",
            "2024-01-02  3379.763672  3465.631405  3373.767078  3465.238288  1511464\n",
            "2024-01-03  3381.975586  3407.042912  3353.713405  3374.750202  1283859\n",
            "2024-01-04  3400.013916  3421.050952  3364.919709  3382.663491  1651616\n",
            "2024-01-05  3462.141357  3494.679823  3401.291754  3406.157716  2069018\n",
            "Columns: MultiIndex([( 'Close', 'LT.NS'),\n",
            "            (  'High', 'LT.NS'),\n",
            "            (   'Low', 'LT.NS'),\n",
            "            (  'Open', 'LT.NS'),\n",
            "            ('Volume', 'LT.NS')],\n",
            "           names=['Price', 'Ticker'])\n",
            "Price             Close         High          Low         Open   Volume  \\\n",
            "Date                                                                      \n",
            "2024-01-01  3465.631348  3477.968452  3436.730293  3477.968452   777080   \n",
            "2024-01-02  3379.763672  3465.631405  3373.767078  3465.238288  1511464   \n",
            "2024-01-03  3381.975586  3407.042912  3353.713405  3374.750202  1283859   \n",
            "2024-01-04  3400.013916  3421.050952  3364.919709  3382.663491  1651616   \n",
            "2024-01-05  3462.141357  3494.679823  3401.291754  3406.157716  2069018   \n",
            "\n",
            "Price               SMA          EMA       SMA_50       EMA_12       MACD  \\\n",
            "Date                                                                        \n",
            "2024-01-01  3465.631348  3465.631348  3465.631348  3465.631348   0.000000   \n",
            "2024-01-02  3422.697510  3462.263988  3422.697510  3452.420936  -6.849843   \n",
            "2024-01-03  3409.123535  3459.115423  3409.123535  3441.583190 -11.962019   \n",
            "2024-01-04  3406.846130  3456.797717  3406.846130  3435.187917 -14.392011   \n",
            "2024-01-05  3417.905176  3457.007271  3417.905176  3439.334600 -11.175804   \n",
            "\n",
            "Price       MACD_Signal   Upper_Band   Lower_Band        RSI Signal  \n",
            "Date                                                                 \n",
            "2024-01-01     0.000000  3587.066579  3344.196116   0.000000   Sell  \n",
            "2024-01-02    -1.369969  3544.132741  3301.262278   0.000000    Buy  \n",
            "2024-01-03    -3.488379  3507.022928  3311.224142   1.271600    Buy  \n",
            "2024-01-04    -5.669105  3487.298058  3326.394203  10.547793    Buy  \n",
            "2024-01-05    -6.770445  3503.347754  3332.462598  32.417733    Buy  \n"
          ]
        },
        {
          "output_type": "display_data",
          "data": {
            "text/plain": [
              "<Figure size 1200x600 with 1 Axes>"
            ],
            "image/png": "[encoded data removed]"
          },
          "metadata": {}
        },
        {
          "output_type": "stream",
          "name": "stdout",
          "text": [
            "[[-0.21056117 -0.3685235  -0.16658034 ... -0.65200616  0.20891346\n",
            "  -3.15245763]\n",
            " [-0.73243814 -0.44363897 -0.54680775 ... -0.95869755 -0.06941281\n",
            "  -3.15245763]\n",
            " [-0.71899482 -0.80036148 -0.66790952 ... -1.2237859  -0.00483325\n",
            "  -3.07361836]\n",
            " ...\n",
            " [ 0.96832046  0.79459318  0.94076826 ...  0.11731734  1.70358334\n",
            "  -0.027449  ]\n",
            " [ 1.08744226  1.17452188  1.21191347 ...  0.15363708  1.69529473\n",
            "  -0.05016503]\n",
            " [ 1.03031258  1.08989079  1.13763493 ...  0.17389854  1.69259525\n",
            "  -0.12722638]]\n",
            "Fitting the given dataset..\n",
            "Accuracy is:  0.7049180327868853\n",
            "Fitting the given dataset..\n",
            "Accuracy is:  0.6721311475409836\n",
            "Fitting the given dataset..\n",
            "Accuracy is:  0.639344262295082\n",
            "Fitting the given dataset..\n",
            "Accuracy is:  0.6967213114754098\n",
            "Fitting the given dataset..\n",
            "Accuracy is:  0.6557377049180327\n",
            "Fitting the given dataset..\n",
            "Accuracy is:  0.6721311475409836\n",
            "Fitting the given dataset..\n",
            "Accuracy is:  0.6557377049180327\n",
            "Fitting the given dataset..\n",
            "Accuracy is:  0.680327868852459\n",
            "Fitting the given dataset..\n",
            "Accuracy is:  0.7295081967213115\n",
            "Fitting the given dataset..\n",
            "Accuracy is:  0.639344262295082\n",
            "Fitting the given dataset..\n",
            "Accuracy is:  0.6885245901639344\n",
            "Fitting the given dataset..\n",
            "Accuracy is:  0.6065573770491803\n",
            "Fitting the given dataset..\n",
            "Accuracy is:  0.6639344262295082\n",
            "Fitting the given dataset..\n",
            "Accuracy is:  0.680327868852459\n",
            "Fitting the given dataset..\n",
            "Accuracy is:  0.7131147540983607\n",
            "The best accuracy of the model is  0.7295081967213115\n",
            "F1 Score: 0.7207018204476481\n"
          ]
        }
      ]
    },
    {
      "cell_type": "code",
      "source": [
        "!git init"
      ],
      "metadata": {
        "id": "ED-LOXCz1a1Z",
        "colab": {
          "base_uri": "https://localhost:8080/"
        },
        "outputId": "5d70a7a6-30b5-4bab-d7f2-351555d99fdf"
      },
      "execution_count": null,
      "outputs": [
        {
          "output_type": "stream",
          "name": "stdout",
          "text": [
            "\u001b[33mhint: Using 'master' as the name for the initial branch. This default branch name\u001b[m\n",
            "\u001b[33mhint: is subject to change. To configure the initial branch name to use in all\u001b[m\n",
            "\u001b[33mhint: of your new repositories, which will suppress this warning, call:\u001b[m\n",
            "\u001b[33mhint: \u001b[m\n",
            "\u001b[33mhint: \tgit config --global init.defaultBranch <name>\u001b[m\n",
            "\u001b[33mhint: \u001b[m\n",
            "\u001b[33mhint: Names commonly chosen instead of 'master' are 'main', 'trunk' and\u001b[m\n",
            "\u001b[33mhint: 'development'. The just-created branch can be renamed via this command:\u001b[m\n",
            "\u001b[33mhint: \u001b[m\n",
            "\u001b[33mhint: \tgit branch -m <name>\u001b[m\n",
            "Initialized empty Git repository in /content/.git/\n"
          ]
        }
      ]
    },
    {
      "cell_type": "code",
      "source": [
        "!git add .\n"
      ],
      "metadata": {
        "id": "tlP0PPxf1bgo"
      },
      "execution_count": null,
      "outputs": []
    },
    {
      "cell_type": "code",
      "source": [
        "!git commit -m \"Initial commit of ML code\"\n"
      ],
      "metadata": {
        "id": "QHfpEfPT1hdI",
        "outputId": "1cfc924c-449a-4f04-9e1d-21f27c92cbd9",
        "colab": {
          "base_uri": "https://localhost:8080/"
        }
      },
      "execution_count": null,
      "outputs": [
        {
          "output_type": "stream",
          "name": "stdout",
          "text": [
            "Author identity unknown\n",
            "\n",
            "*** Please tell me who you are.\n",
            "\n",
            "Run\n",
            "\n",
            "  git config --global user.email \"you@example.com\"\n",
            "  git config --global user.name \"Your Name\"\n",
            "\n",
            "to set your account's default identity.\n",
            "Omit --global to set the identity only in this repository.\n",
            "\n",
            "fatal: unable to auto-detect email address (got 'root@a43c52a194e4.(none)')\n"
          ]
        }
      ]
    },
    {
      "cell_type": "code",
      "source": [
        "!git config --global user.email \"priyendusingh000@gmail.com\"\n"
      ],
      "metadata": {
        "id": "tnw_VyOz2cgt"
      },
      "execution_count": 6,
      "outputs": []
    },
    {
      "cell_type": "code",
      "source": [
        "!git config --global user.name \"PriyenduSingh\""
      ],
      "metadata": {
        "id": "xBsEEKyh23Ja"
      },
      "execution_count": 7,
      "outputs": []
    },
    {
      "cell_type": "code",
      "source": [
        "!git commit -m \"Initial commit of ML code\"\n"
      ],
      "metadata": {
        "colab": {
          "base_uri": "https://localhost:8080/"
        },
        "id": "sV0uOdmv3EIJ",
        "outputId": "92a2161a-1cbc-48cf-fe67-51d2369bb4ba"
      },
      "execution_count": 8,
      "outputs": [
        {
          "output_type": "stream",
          "name": "stdout",
          "text": [
            "[master (root-commit) 274634c] Initial commit of ML code\n",
            " 21 files changed, 51025 insertions(+)\n",
            " create mode 100644 .config/.last_opt_in_prompt.yaml\n",
            " create mode 100644 .config/.last_survey_prompt.yaml\n",
            " create mode 100644 .config/.last_update_check.json\n",
            " create mode 100644 .config/active_config\n",
            " create mode 100644 .config/config_sentinel\n",
            " create mode 100644 .config/configurations/config_default\n",
            " create mode 100644 .config/default_configs.db\n",
            " create mode 100644 .config/gce\n",
            " create mode 100644 .config/hidden_gcloud_config_universe_descriptor_data_cache_configs.db\n",
            " create mode 100644 .config/logs/2025.10.22/13.37.51.566274.log\n",
            " create mode 100644 .config/logs/2025.10.22/13.38.25.983338.log\n",
            " create mode 100644 .config/logs/2025.10.22/13.38.34.894138.log\n",
            " create mode 100644 .config/logs/2025.10.22/13.38.40.152011.log\n",
            " create mode 100644 .config/logs/2025.10.22/13.38.48.808237.log\n",
            " create mode 100644 .config/logs/2025.10.22/13.38.49.564834.log\n",
            " create mode 100755 sample_data/README.md\n",
            " create mode 100755 sample_data/anscombe.json\n",
            " create mode 100644 sample_data/california_housing_test.csv\n",
            " create mode 100644 sample_data/california_housing_train.csv\n",
            " create mode 100644 sample_data/mnist_test.csv\n",
            " create mode 100644 sample_data/mnist_train_small.csv\n"
          ]
        }
      ]
    }
  ]
}